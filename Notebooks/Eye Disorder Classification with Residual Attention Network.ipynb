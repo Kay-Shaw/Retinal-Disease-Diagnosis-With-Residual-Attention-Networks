{
 "cells": [
  {
   "cell_type": "code",
   "execution_count": null,
   "metadata": {},
   "outputs": [],
   "source": [
    "import warnings\n",
    "warnings.filterwarnings(\"ignore\")\n",
    "\n",
    "import sys\n",
    "sys.path.append(\"../\")\n",
    "\n",
    "from Code.ResidualAttentionNetwork import ResidualAttentionNetwork\n",
    "import numpy as np\n",
    "import pandas as pd \n",
    "import os\n",
    "import glob\n",
    "from datetime import datetime\n",
    "from pathlib import Path\n",
    "\n",
    "from sklearn.utils import resample\n",
    "from sklearn.model_selection import train_test_split\n",
    "from sklearn.utils import class_weight\n",
    "\n",
    "import tensorflow as tf\n",
    "\n",
    "from tensorflow.keras.callbacks import ModelCheckpoint, CSVLogger\n",
    "from tensorflow.keras.preprocessing.image import ImageDataGenerator\n",
    "from tensorflow.keras.models import load_model\n",
    "from tensorflow.keras import optimizers \n",
    "\n",
    "import logging\n",
    "\n",
    "os.environ['TF_CPP_MIN_LOG_LEVEL'] = '3'  # FATAL\n",
    "logging.getLogger('tensorflow').setLevel(logging.FATAL)"
   ]
  },
  {
   "cell_type": "markdown",
   "metadata": {},
   "source": [
    "# Organize Data "
   ]
  },
  {
   "cell_type": "code",
   "execution_count": null,
   "metadata": {},
   "outputs": [],
   "source": [
    "# Construct the files to be placed inside a dataframe\n",
    "def construct_data(filepath):\n",
    "    data = {}\n",
    "    data['filepath'] = filepath\n",
    "    data['class'] = str(Path(filepath).parent).split('/')[-1]\n",
    "    return data"
   ]
  },
  {
   "cell_type": "code",
   "execution_count": null,
   "metadata": {},
   "outputs": [],
   "source": [
    "data_dir = \"/pylon5/cc5614p/deopha32/eye_images/\"\n",
    "\n",
    "data_files=[filename for filename in glob.iglob(data_dir + '*/*/*', recursive=True)]\n",
    "\n",
    "# Place inside dataframe\n",
    "data = [construct_data(file) for file in data_files]\n",
    "eye_df = pd.DataFrame(data)"
   ]
  },
  {
   "cell_type": "code",
   "execution_count": null,
   "metadata": {},
   "outputs": [],
   "source": [
    "X = eye_df['filepath']\n",
    "y = eye_df['class']\n",
    "\n",
    "# 60-20-20 Split: https://stackoverflow.com/a/38251213/9221241\n",
    "X_train, X_test, y_train, y_test = train_test_split(X, y, test_size=0.20, stratify=y)\n",
    "X_train, X_val, y_train, y_val = train_test_split(X_train, y_train, test_size=0.25, stratify=y_train)\n",
    "\n",
    "model_train_data = pd.concat([X_train, y_train], axis=1)\n",
    "model_train_data = pd.DataFrame(model_train_data)\n",
    "\n",
    "model_val_data = pd.concat([X_val, y_val], axis=1)\n",
    "model_val_data = pd.DataFrame(model_val_data)\n",
    "\n",
    "model_test_data = pd.concat([X_test, y_test], axis=1)\n",
    "model_test_data = pd.DataFrame(model_test_data)"
   ]
  },
  {
   "cell_type": "code",
   "execution_count": null,
   "metadata": {},
   "outputs": [],
   "source": [
    "class_names = ['CNV', 'DME', 'DRUSEN', 'NORMAL']\n",
    "\n",
    "weights = class_weight.compute_class_weight('balanced',\n",
    "                                             class_names,\n",
    "                                             y_train)\n",
    "\n",
    "class_weights = {class_names[index]:weights[index] for index in range(len(class_names))}"
   ]
  },
  {
   "cell_type": "code",
   "execution_count": null,
   "metadata": {},
   "outputs": [],
   "source": [
    "# Save Dataframes for future use\n",
    "model_train_data.to_csv(\"/home/deopha32/EyeDiseaseClassification/Data/training_data\", index=False)\n",
    "model_val_data.to_csv(\"/home/deopha32/EyeDiseaseClassification/Data/validatation_data\", index=False)\n",
    "model_test_data.to_csv(\"/home/deopha32/EyeDiseaseClassification/Data/testing_data\", index=False)"
   ]
  },
  {
   "cell_type": "markdown",
   "metadata": {},
   "source": [
    "# Network Metadata"
   ]
  },
  {
   "cell_type": "code",
   "execution_count": null,
   "metadata": {},
   "outputs": [],
   "source": [
    "IMAGE_WIDTH=32\n",
    "IMAGE_HEIGHT=32\n",
    "IMAGE_SIZE=(IMAGE_WIDTH, IMAGE_HEIGHT)\n",
    "IMAGE_CHANNELS=1\n",
    "IMAGE_SHAPE=(IMAGE_WIDTH, IMAGE_HEIGHT, IMAGE_CHANNELS)\n",
    "\n",
    "batch_size=32\n",
    "\n",
    "num_classes = 4\n",
    "\n",
    "epochs = 500"
   ]
  },
  {
   "cell_type": "markdown",
   "metadata": {},
   "source": [
    "# Image Generators"
   ]
  },
  {
   "cell_type": "code",
   "execution_count": null,
   "metadata": {},
   "outputs": [],
   "source": [
    "train_datagen = ImageDataGenerator(rescale=1./255.)\n",
    "\n",
    "train_generator=train_datagen.flow_from_dataframe(\n",
    "    dataframe=model_train_data,\n",
    "    x_col=\"filepath\",\n",
    "    y_col=\"class\",\n",
    "    batch_size=batch_size,\n",
    "    shuffle=True,\n",
    "    class_mode=\"categorical\",\n",
    "    target_size=IMAGE_SIZE,\n",
    "    color_mode='grayscale',\n",
    "    validate_filenames=False\n",
    ")"
   ]
  },
  {
   "cell_type": "code",
   "execution_count": null,
   "metadata": {},
   "outputs": [],
   "source": [
    "valid_datagen = ImageDataGenerator(rescale=1./255.)\n",
    "\n",
    "valid_generator = valid_datagen.flow_from_dataframe(\n",
    "    dataframe=model_val_data,\n",
    "    x_col=\"filepath\",\n",
    "    y_col=\"class\",\n",
    "    batch_size=batch_size,\n",
    "    shuffle=True,\n",
    "    class_mode=\"categorical\",\n",
    "    target_size=IMAGE_SIZE,\n",
    "    color_mode='grayscale',\n",
    "    validate_filenames=False\n",
    ")"
   ]
  },
  {
   "cell_type": "code",
   "execution_count": null,
   "metadata": {},
   "outputs": [],
   "source": [
    "class_indices = train_generator.class_indices\n",
    "new_class_weights = dict((class_indices[key], value) for (key, value) in class_weights.items())"
   ]
  },
  {
   "cell_type": "markdown",
   "metadata": {},
   "source": [
    "# Train Model"
   ]
  },
  {
   "cell_type": "code",
   "execution_count": null,
   "metadata": {},
   "outputs": [],
   "source": [
    "curr_time = f'{datetime.now():%H-%M-%S%z_%m%d%Y}'\n",
    "\n",
    "model_path = \"/pylon5/cc5614p/deopha32/Saved_Models/eye-model_{}.h5\".format(curr_time)\n",
    "logger_path = \"/pylon5/cc5614p/deopha32/Saved_Models/eye-model-history_{}.csv\".format(curr_time)"
   ]
  },
  {
   "cell_type": "code",
   "execution_count": null,
   "metadata": {},
   "outputs": [],
   "source": [
    "checkpoint = ModelCheckpoint(model_path, monitor='val_acc', verbose=1, save_best_only=True)\n",
    "csv_logger = CSVLogger(logger_path, append=True)\n",
    "\n",
    "callbacks = [checkpoint, csv_logger]"
   ]
  },
  {
   "cell_type": "code",
   "execution_count": null,
   "metadata": {},
   "outputs": [],
   "source": [
    "STEP_SIZE_TRAIN=train_generator.n//train_generator.batch_size\n",
    "STEP_SIZE_VALID=valid_generator.n//valid_generator.batch_size"
   ]
  },
  {
   "cell_type": "code",
   "execution_count": null,
   "metadata": {},
   "outputs": [],
   "source": [
    "# Model Training\n",
    "with tf.device('/gpu:0'):\n",
    "    model = ResidualAttentionNetwork(\n",
    "                input_shape=IMAGE_SHAPE, \n",
    "                n_classes=num_classes, \n",
    "                activation='softmax').build_model()\n",
    "    \n",
    "    model.compile(optimizer=optimizers.RMSprop(lr=0.0001),\n",
    "                  loss='categorical_crossentropy',\n",
    "                  metrics=['accuracy'])\n",
    "    \n",
    "    history = model.fit_generator(generator=train_generator, class_weight=new_class_weights,\n",
    "                    steps_per_epoch=STEP_SIZE_TRAIN, verbose=1, callbacks=callbacks,\n",
    "                    validation_data=valid_generator, validation_steps=STEP_SIZE_VALID,\n",
    "                    epochs=epochs, use_multiprocessing=True, workers=40)"
   ]
  }
 ],
 "metadata": {
  "kernelspec": {
   "display_name": "Python 3",
   "language": "python",
   "name": "python3"
  },
  "language_info": {
   "codemirror_mode": {
    "name": "ipython",
    "version": 3
   },
   "file_extension": ".py",
   "mimetype": "text/x-python",
   "name": "python",
   "nbconvert_exporter": "python",
   "pygments_lexer": "ipython3",
   "version": "3.6.4"
  }
 },
 "nbformat": 4,
 "nbformat_minor": 2
}
