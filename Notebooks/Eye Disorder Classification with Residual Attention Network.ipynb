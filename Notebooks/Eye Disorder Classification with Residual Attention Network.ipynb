{
 "cells": [
  {
   "cell_type": "code",
   "execution_count": 1,
   "metadata": {
    "scrolled": true
   },
   "outputs": [
    {
     "name": "stderr",
     "output_type": "stream",
     "text": [
      "/opt/packages/python/gnu_openmpi/3.6.4_np1.14.5/lib/python3.6/site-packages/h5py/__init__.py:72: UserWarning: h5py is running against HDF5 1.10.2 when it was built against 1.8.4, this may cause problems\n",
      "  '{0}.{1}.{2}'.format(*version.hdf5_built_version_tuple)\n",
      "Using TensorFlow backend.\n",
      "/opt/packages/TensorFlow/gnu/tf1.8_py3_gpu/lib/python3.6/site-packages/tensorflow/python/framework/dtypes.py:519: FutureWarning: Passing (type, 1) or '1type' as a synonym of type is deprecated; in a future version of numpy, it will be understood as (type, (1,)) / '(1,)type'.\n",
      "  _np_qint8 = np.dtype([(\"qint8\", np.int8, 1)])\n",
      "/opt/packages/TensorFlow/gnu/tf1.8_py3_gpu/lib/python3.6/site-packages/tensorflow/python/framework/dtypes.py:520: FutureWarning: Passing (type, 1) or '1type' as a synonym of type is deprecated; in a future version of numpy, it will be understood as (type, (1,)) / '(1,)type'.\n",
      "  _np_quint8 = np.dtype([(\"quint8\", np.uint8, 1)])\n",
      "/opt/packages/TensorFlow/gnu/tf1.8_py3_gpu/lib/python3.6/site-packages/tensorflow/python/framework/dtypes.py:521: FutureWarning: Passing (type, 1) or '1type' as a synonym of type is deprecated; in a future version of numpy, it will be understood as (type, (1,)) / '(1,)type'.\n",
      "  _np_qint16 = np.dtype([(\"qint16\", np.int16, 1)])\n",
      "/opt/packages/TensorFlow/gnu/tf1.8_py3_gpu/lib/python3.6/site-packages/tensorflow/python/framework/dtypes.py:522: FutureWarning: Passing (type, 1) or '1type' as a synonym of type is deprecated; in a future version of numpy, it will be understood as (type, (1,)) / '(1,)type'.\n",
      "  _np_quint16 = np.dtype([(\"quint16\", np.uint16, 1)])\n",
      "/opt/packages/TensorFlow/gnu/tf1.8_py3_gpu/lib/python3.6/site-packages/tensorflow/python/framework/dtypes.py:523: FutureWarning: Passing (type, 1) or '1type' as a synonym of type is deprecated; in a future version of numpy, it will be understood as (type, (1,)) / '(1,)type'.\n",
      "  _np_qint32 = np.dtype([(\"qint32\", np.int32, 1)])\n",
      "/opt/packages/TensorFlow/gnu/tf1.8_py3_gpu/lib/python3.6/site-packages/tensorflow/python/framework/dtypes.py:528: FutureWarning: Passing (type, 1) or '1type' as a synonym of type is deprecated; in a future version of numpy, it will be understood as (type, (1,)) / '(1,)type'.\n",
      "  np_resource = np.dtype([(\"resource\", np.ubyte, 1)])\n"
     ]
    }
   ],
   "source": [
    "import sys\n",
    "sys.path.append(\"..\")\n",
    "\n",
    "from Code.ResidualAttentionNetwork import ResidualAttentionNetwork\n",
    "\n",
    "import numpy as np\n",
    "import pandas as pd \n",
    "import matplotlib.pyplot as plt\n",
    "import random\n",
    "import os\n",
    "from PIL import Image\n",
    "\n",
    "import h5py\n",
    "\n",
    "import matplotlib.pyplot as plt\n",
    "%matplotlib inline\n",
    "\n",
    "import tensorflow as tf\n",
    "\n",
    "from keras.preprocessing.image import ImageDataGenerator\n",
    "from keras.callbacks import ModelCheckpoint, EarlyStopping, CSVLogger\n",
    "from keras import optimizers\n",
    "\n",
    "from keras.models import load_model"
   ]
  },
  {
   "cell_type": "markdown",
   "metadata": {},
   "source": [
    "# Network Metadata "
   ]
  },
  {
   "cell_type": "code",
   "execution_count": 2,
   "metadata": {},
   "outputs": [],
   "source": [
    "IMAGE_WIDTH=32\n",
    "IMAGE_HEIGHT=32\n",
    "IMAGE_SIZE=(IMAGE_WIDTH, IMAGE_HEIGHT)\n",
    "IMAGE_CHANNELS=1\n",
    "IMAGE_SHAPE=(IMAGE_WIDTH, IMAGE_HEIGHT, IMAGE_CHANNELS)\n",
    "batch_size=32\n",
    "\n",
    "epochs = 200\n",
    "\n",
    "num_classes = 4"
   ]
  },
  {
   "cell_type": "markdown",
   "metadata": {},
   "source": [
    "# Image Generators"
   ]
  },
  {
   "cell_type": "markdown",
   "metadata": {},
   "source": [
    "For data, download from Kaggle: https://www.kaggle.com/paultimothymooney/kermany2018"
   ]
  },
  {
   "cell_type": "code",
   "execution_count": 3,
   "metadata": {},
   "outputs": [],
   "source": [
    "train_dir = \"/pylon5/cc5614p/deopha32/eye_images/train\"\n",
    "test_dir = \"/pylon5/cc5614p/deopha32/eye_images/test\""
   ]
  },
  {
   "cell_type": "code",
   "execution_count": 4,
   "metadata": {},
   "outputs": [],
   "source": [
    "train_datagen = ImageDataGenerator(\n",
    "    rotation_range=15,\n",
    "    rescale=1./255,\n",
    "    shear_range=0.1,\n",
    "    zoom_range=0.2,\n",
    "    horizontal_flip=True,\n",
    "    width_shift_range=0.1,\n",
    "    height_shift_range=0.1,\n",
    "    validation_split=0.33\n",
    ")\n",
    "\n",
    "test_datagen = ImageDataGenerator(\n",
    "    rescale=1./255\n",
    ")"
   ]
  },
  {
   "cell_type": "code",
   "execution_count": 5,
   "metadata": {},
   "outputs": [
    {
     "name": "stdout",
     "output_type": "stream",
     "text": [
      "Found 55940 images belonging to 4 classes.\n",
      "Found 27549 images belonging to 4 classes.\n",
      "Found 968 images belonging to 4 classes.\n"
     ]
    }
   ],
   "source": [
    "train_generator = train_datagen.flow_from_directory(\n",
    "    directory=train_dir, \n",
    "    shuffle=True,\n",
    "    target_size=IMAGE_SIZE,\n",
    "    class_mode='categorical',\n",
    "    color_mode='grayscale',\n",
    "    batch_size=batch_size,\n",
    "    subset=\"training\"\n",
    ")\n",
    "\n",
    "valid_generator = train_datagen.flow_from_directory(\n",
    "    directory=train_dir, \n",
    "    shuffle=True,\n",
    "    target_size=IMAGE_SIZE,\n",
    "    class_mode=\"categorical\",\n",
    "    color_mode='grayscale',\n",
    "    batch_size=batch_size,\n",
    "    subset=\"validation\"\n",
    ")\n",
    "\n",
    "test_generator = test_datagen.flow_from_directory(\n",
    "    directory=test_dir,\n",
    "    shuffle=False,\n",
    "    target_size=IMAGE_SIZE,\n",
    "    class_mode=None,\n",
    "    batch_size=batch_size,\n",
    ")"
   ]
  },
  {
   "cell_type": "code",
   "execution_count": 6,
   "metadata": {},
   "outputs": [],
   "source": [
    "STEP_SIZE_TRAIN=train_generator.n//train_generator.batch_size\n",
    "STEP_SIZE_VALID=valid_generator.n//valid_generator.batch_size\n",
    "STEP_SIZE_TEST=test_generator.n//test_generator.batch_size"
   ]
  },
  {
   "cell_type": "code",
   "execution_count": 7,
   "metadata": {},
   "outputs": [],
   "source": [
    "model_path = \"../Saved_Model/eye-disorder-model.h5\"\n",
    "\n",
    "early_stop = EarlyStopping(monitor='val_acc',  verbose=1, patience=10)\n",
    "checkpoint = ModelCheckpoint(model_path, monitor='val_acc', verbose=1, save_best_only=True)\n",
    "csv_logger = CSVLogger(\"model_history_log.csv\", append=True)\n",
    "\n",
    "callbacks = [early_stop, checkpoint, csv_logger]"
   ]
  },
  {
   "cell_type": "markdown",
   "metadata": {},
   "source": [
    "# Initial Model Training"
   ]
  },
  {
   "cell_type": "code",
   "execution_count": 8,
   "metadata": {},
   "outputs": [],
   "source": [
    "# with tf.device('/gpu:0'):\n",
    "#     model = ResidualAttentionNetwork(\n",
    "#                 input_shape=IMAGE_SHAPE, \n",
    "#                 n_classes=num_classes, \n",
    "#                 activation='softmax').build_model()\n",
    "\n",
    "#     model.compile(optimizer=optimizers.Adam(lr=0.0001),\n",
    "#                   loss='categorical_crossentropy',\n",
    "#                   metrics=['accuracy'])\n",
    "\n",
    "#     history = model.fit_generator(generator=train_generator,\n",
    "#                         steps_per_epoch=STEP_SIZE_TRAIN, verbose=1, callbacks=callbacks,\n",
    "#                         validation_data=valid_generator, validation_steps=STEP_SIZE_VALID,\n",
    "#                         epochs=epochs, use_multiprocessing=True, workers=32)\n",
    "\n",
    "# model.save(model_path)"
   ]
  },
  {
   "cell_type": "markdown",
   "metadata": {},
   "source": [
    "# Load Model and Resume Training"
   ]
  },
  {
   "cell_type": "code",
   "execution_count": 9,
   "metadata": {},
   "outputs": [
    {
     "name": "stdout",
     "output_type": "stream",
     "text": [
      "Epoch 51/200\n",
      "1748/1748 [==============================] - 624s 357ms/step - loss: 0.4247 - acc: 0.8458 - val_loss: 0.4716 - val_acc: 0.8332\n",
      "\n",
      "Epoch 00051: val_acc improved from -inf to 0.83318, saving model to ../Saved_Model/eye-disorder-model.h5\n",
      "Epoch 52/200\n",
      "1748/1748 [==============================] - 510s 292ms/step - loss: 0.4235 - acc: 0.8464 - val_loss: 0.4874 - val_acc: 0.8149\n",
      "\n",
      "Epoch 00052: val_acc did not improve from 0.83318\n",
      "Epoch 53/200\n",
      "1748/1748 [==============================] - 519s 297ms/step - loss: 0.4208 - acc: 0.8475 - val_loss: 0.4756 - val_acc: 0.8252\n",
      "\n",
      "Epoch 00053: val_acc did not improve from 0.83318\n",
      "Epoch 54/200\n",
      "1748/1748 [==============================] - 602s 344ms/step - loss: 0.4199 - acc: 0.8478 - val_loss: 0.4596 - val_acc: 0.8283\n",
      "\n",
      "Epoch 00054: val_acc did not improve from 0.83318\n",
      "Epoch 55/200\n",
      "1748/1748 [==============================] - 598s 342ms/step - loss: 0.4168 - acc: 0.8477 - val_loss: 0.4648 - val_acc: 0.8289\n",
      "\n",
      "Epoch 00055: val_acc did not improve from 0.83318\n",
      "Epoch 56/200\n",
      "1748/1748 [==============================] - 592s 339ms/step - loss: 0.4163 - acc: 0.8483 - val_loss: 0.4587 - val_acc: 0.8332\n",
      "\n",
      "Epoch 00056: val_acc improved from 0.83318 to 0.83325, saving model to ../Saved_Model/eye-disorder-model.h5\n",
      "Epoch 57/200\n",
      "1748/1748 [==============================] - 583s 333ms/step - loss: 0.4167 - acc: 0.8483 - val_loss: 0.4603 - val_acc: 0.8286\n",
      "\n",
      "Epoch 00057: val_acc did not improve from 0.83325\n",
      "Epoch 58/200\n",
      "1748/1748 [==============================] - 527s 302ms/step - loss: 0.4183 - acc: 0.8480 - val_loss: 0.4754 - val_acc: 0.8291\n",
      "\n",
      "Epoch 00058: val_acc did not improve from 0.83325\n",
      "Epoch 59/200\n",
      "1748/1748 [==============================] - 524s 300ms/step - loss: 0.4144 - acc: 0.8498 - val_loss: 0.4725 - val_acc: 0.8273\n",
      "\n",
      "Epoch 00059: val_acc did not improve from 0.83325\n",
      "Epoch 60/200\n",
      "1748/1748 [==============================] - 543s 311ms/step - loss: 0.4082 - acc: 0.8507 - val_loss: 0.4699 - val_acc: 0.8240\n",
      "\n",
      "Epoch 00060: val_acc did not improve from 0.83325\n",
      "Epoch 61/200\n",
      "1748/1748 [==============================] - 483s 276ms/step - loss: 0.4105 - acc: 0.8505 - val_loss: 0.4689 - val_acc: 0.8294\n",
      "\n",
      "Epoch 00061: val_acc did not improve from 0.83325\n",
      "Epoch 62/200\n",
      "1748/1748 [==============================] - 535s 306ms/step - loss: 0.4094 - acc: 0.8504 - val_loss: 0.4707 - val_acc: 0.8290\n",
      "\n",
      "Epoch 00062: val_acc did not improve from 0.83325\n",
      "Epoch 63/200\n",
      "1748/1748 [==============================] - 588s 336ms/step - loss: 0.4069 - acc: 0.8519 - val_loss: 0.4547 - val_acc: 0.8383\n",
      "\n",
      "Epoch 00063: val_acc improved from 0.83325 to 0.83830, saving model to ../Saved_Model/eye-disorder-model.h5\n",
      "Epoch 64/200\n",
      "1748/1748 [==============================] - 543s 311ms/step - loss: 0.4059 - acc: 0.8536 - val_loss: 0.4959 - val_acc: 0.8226\n",
      "\n",
      "Epoch 00064: val_acc did not improve from 0.83830\n",
      "Epoch 65/200\n",
      "1748/1748 [==============================] - 494s 283ms/step - loss: 0.4054 - acc: 0.8525 - val_loss: 0.4775 - val_acc: 0.8250\n",
      "\n",
      "Epoch 00065: val_acc did not improve from 0.83830\n",
      "Epoch 66/200\n",
      "1748/1748 [==============================] - 551s 315ms/step - loss: 0.4046 - acc: 0.8528 - val_loss: 0.4712 - val_acc: 0.8365\n",
      "\n",
      "Epoch 00066: val_acc did not improve from 0.83830\n",
      "Epoch 67/200\n",
      "1748/1748 [==============================] - 609s 348ms/step - loss: 0.4011 - acc: 0.8554 - val_loss: 0.4748 - val_acc: 0.8250\n",
      "\n",
      "Epoch 00067: val_acc did not improve from 0.83830\n",
      "Epoch 68/200\n",
      "1748/1748 [==============================] - 592s 339ms/step - loss: 0.3984 - acc: 0.8556 - val_loss: 0.4641 - val_acc: 0.8332\n",
      "\n",
      "Epoch 00068: val_acc did not improve from 0.83830\n",
      "Epoch 69/200\n",
      "1748/1748 [==============================] - 573s 328ms/step - loss: 0.4011 - acc: 0.8558 - val_loss: 0.4576 - val_acc: 0.8362\n",
      "\n",
      "Epoch 00069: val_acc did not improve from 0.83830\n",
      "Epoch 70/200\n",
      "1748/1748 [==============================] - 626s 358ms/step - loss: 0.4013 - acc: 0.8553 - val_loss: 0.4609 - val_acc: 0.8337\n",
      "\n",
      "Epoch 00070: val_acc did not improve from 0.83830\n",
      "Epoch 71/200\n",
      "1748/1748 [==============================] - 569s 326ms/step - loss: 0.3996 - acc: 0.8564 - val_loss: 0.4737 - val_acc: 0.8251\n",
      "\n",
      "Epoch 00071: val_acc did not improve from 0.83830\n",
      "Epoch 72/200\n",
      "1748/1748 [==============================] - 621s 355ms/step - loss: 0.3977 - acc: 0.8549 - val_loss: 0.4471 - val_acc: 0.8343\n",
      "\n",
      "Epoch 00072: val_acc did not improve from 0.83830\n",
      "Epoch 73/200\n",
      "1748/1748 [==============================] - 624s 357ms/step - loss: 0.3942 - acc: 0.8565 - val_loss: 0.4488 - val_acc: 0.8375\n",
      "\n",
      "Epoch 00073: val_acc did not improve from 0.83830\n",
      "Epoch 00073: early stopping\n"
     ]
    }
   ],
   "source": [
    "with tf.device('/gpu:0'):\n",
    "    model = load_model(model_path)\n",
    "\n",
    "    history = model.fit_generator(generator=train_generator,\n",
    "                        steps_per_epoch=STEP_SIZE_TRAIN, verbose=1, callbacks=callbacks,\n",
    "                        validation_data=valid_generator, validation_steps=STEP_SIZE_VALID,\n",
    "                        epochs=epochs, use_multiprocessing=True, workers=40, initial_epoch=50)"
   ]
  },
  {
   "cell_type": "code",
   "execution_count": 13,
   "metadata": {},
   "outputs": [],
   "source": [
    "model.save(model_path)"
   ]
  },
  {
   "cell_type": "markdown",
   "metadata": {},
   "source": [
    "# Visualize Data "
   ]
  },
  {
   "cell_type": "code",
   "execution_count": 15,
   "metadata": {},
   "outputs": [
    {
     "data": {
      "image/png": "[encoded data removed]",
      "text/plain": [
       "<Figure size 864x864 with 2 Axes>"
      ]
     },
     "metadata": {},
     "output_type": "display_data"
    }
   ],
   "source": [
    "fig, (ax1, ax2) = plt.subplots(2, 1, figsize=(12, 12))\n",
    "ax1.plot(history.history['loss'], color='b', label=\"Training loss\")\n",
    "ax1.plot(history.history['val_loss'], color='r', label=\"validation loss\")\n",
    "ax1.set_xticks(np.arange(1, 10, 1))\n",
    "ax1.set_yticks(np.arange(0, 1, 0.1))\n",
    "\n",
    "ax2.plot(history.history['acc'], color='b', label=\"Training accuracy\")\n",
    "ax2.plot(history.history['val_acc'], color='r',label=\"Validation accuracy\")\n",
    "ax2.set_xticks(np.arange(1, 10, 1))\n",
    "\n",
    "legend = plt.legend(loc='best', shadow=True)\n",
    "plt.tight_layout()\n",
    "plt.show()"
   ]
  },
  {
   "cell_type": "markdown",
   "metadata": {},
   "source": [
    "# Evaluate Model on Validation Data"
   ]
  },
  {
   "cell_type": "code",
   "execution_count": 12,
   "metadata": {},
   "outputs": [
    {
     "name": "stdout",
     "output_type": "stream",
     "text": [
      "860/860 [==============================] - 187s 218ms/step\n",
      "Test: accuracy = 0.835719  ;  loss = 0.453460 \n"
     ]
    }
   ],
   "source": [
    "loss, accuracy = model.evaluate_generator(valid_generator, STEP_SIZE_VALID, verbose=1, use_multiprocessing=True, workers=40)\n",
    "print(\"Test: accuracy = %f  ;  loss = %f \" % (accuracy, loss))"
   ]
  }
 ],
 "metadata": {
  "kernelspec": {
   "display_name": "Python 3",
   "language": "python",
   "name": "python3"
  },
  "language_info": {
   "codemirror_mode": {
    "name": "ipython",
    "version": 3
   },
   "file_extension": ".py",
   "mimetype": "text/x-python",
   "name": "python",
   "nbconvert_exporter": "python",
   "pygments_lexer": "ipython3",
   "version": "3.7.3"
  }
 },
 "nbformat": 4,
 "nbformat_minor": 2
}
